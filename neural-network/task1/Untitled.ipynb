{
 "cells": [
  {
   "cell_type": "code",
   "execution_count": 1,
   "id": "dbcf1fe9-98dd-4d37-8e6c-90ce2e1a57a3",
   "metadata": {},
   "outputs": [
    {
     "name": "stdout",
     "output_type": "stream",
     "text": [
      "Сеть net:\n",
      "Количетво слоев: 3\n",
      "Количество нейронов в слое 0 : 2\n",
      "Количество нейронов в слое 1 : 3\n",
      "Количество нейронов в слое 2 : 1\n",
      "W_ 1 :\n",
      "[[-0.93 -1.2 ]\n",
      " [ 2.19  0.39]\n",
      " [-0.35  0.27]]\n",
      "b_ 1 :\n",
      "[[ 1.13]\n",
      " [-1.41]\n",
      " [ 0.1 ]]\n",
      "W_ 2 :\n",
      "[[-0.98 -1.25 -0.64]]\n",
      "b_ 2 :\n",
      "[[2.3]]\n"
     ]
    }
   ],
   "source": [
    "\"\"\"\"\"\"\"\"\"\"\"\"\"\"\"\"\"\"\"\"\"\"\"\"\"\"\"\"\"\"\"\"\"\"\"\"\"\"\"\n",
    "network.py\n",
    "Модуль создания и обучения нейронной сети для распознавания рукописных цифр\n",
    "с использованием метода градиентного спуска.\n",
    "Группа:КЭ-120\n",
    "ФИО:Ращупкин Евгений Владимирович\n",
    "\"\"\"\"\"\"\"\"\"\"\"\"\"\"\"\"\"\"\"\"\"\"\"\"\"\"\"\"\"\"\"\"\"\"\"\"\"\"\"\n",
    "# Библиотеки\n",
    "# Стандартные библиотеки\n",
    "# import random  # библиотека функций для генерации случайных значений\n",
    "# Сторонние библиотеки\n",
    "import numpy as np  # библиотека функций для работы с матрицами\n",
    "\"\"\" ---Раздел описаний--- \"\"\"\n",
    "\"\"\" --Описание класса Network--\"\"\"\n",
    "\n",
    "\n",
    "class Network(object):  # используется для описания нейронной сети\n",
    "    def __init__(self, sizes):  # конструктор класса\n",
    "        # self – указатель на объект класса\n",
    "        # sizes – список размеров слоев нейронной сети\n",
    "        self.num_layers = len(sizes)  # задаем количество слоев нейронной сети\n",
    "        self.sizes = sizes  # задаем список размеров слоев нейронной сети\n",
    "        # задаем случайные начальные смещения\n",
    "        self.biases = [np.random.randn(y, 1) for y in sizes[1:]]\n",
    "        # задаем случайные начальные веса связей\n",
    "        self.weights = [np.random.randn(y, x) for x, y in zip(sizes[:-1], sizes[1:])]\n",
    "\n",
    "\n",
    "\"\"\" --Конец описания класса Network--\"\"\"\n",
    "\"\"\" --- Конец раздела описаний--- \"\"\"\n",
    "\"\"\" ---Тело программы--- \"\"\"\n",
    "net = Network([2, 3, 1])  # создаем нейронную сеть из трех слоев\n",
    "\"\"\" ---Конец тела программы--- \"\"\"\n",
    "\"\"\" Вывод результата на экран: \"\"\"\n",
    "print('Сеть net:')\n",
    "print('Количетво слоев:', net.num_layers)\n",
    "for i in range(net.num_layers):\n",
    "    print('Количество нейронов в слое', i, ':', net.sizes[i])\n",
    "for i in range(net.num_layers-1):\n",
    "    print('W_', i+1, ':')\n",
    "    print(np.round(net.weights[i], 2))\n",
    "    print('b_', i+1, ':')\n",
    "    print(np.round(net.biases[i], 2))\n"
   ]
  },
  {
   "cell_type": "code",
   "execution_count": null,
   "id": "8231afa2-6f8c-40a1-a276-fc6a793c8046",
   "metadata": {},
   "outputs": [],
   "source": []
  }
 ],
 "metadata": {
  "kernelspec": {
   "display_name": "Python 3 (ipykernel)",
   "language": "python",
   "name": "python3"
  },
  "language_info": {
   "codemirror_mode": {
    "name": "ipython",
    "version": 3
   },
   "file_extension": ".py",
   "mimetype": "text/x-python",
   "name": "python",
   "nbconvert_exporter": "python",
   "pygments_lexer": "ipython3",
   "version": "3.12.4"
  }
 },
 "nbformat": 4,
 "nbformat_minor": 5
}
