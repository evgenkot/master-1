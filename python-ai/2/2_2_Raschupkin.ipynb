{
 "cells": [
  {
   "cell_type": "code",
   "execution_count": 5,
   "id": "f2976a3d-c071-415e-889d-6cc4a238f45d",
   "metadata": {},
   "outputs": [
    {
     "name": "stdout",
     "output_type": "stream",
     "text": [
      "Flakes count: 25\n",
      "Flakes count: 15\n",
      "Flakes count: 40\n",
      "Flakes count: 7\n",
      "* * * \n",
      "* * * \n",
      "* * * \n",
      "* * * \n",
      "* * * \n",
      "* * * \n",
      "\n",
      "Flakes count: 20\n"
     ]
    }
   ],
   "source": [
    "class Snow:\n",
    "    def __init__(self, flakes: int) -> None:\n",
    "        self.flakes = flakes\n",
    "\n",
    "    def __add__(self, other: 'Snow') -> 'Snow':\n",
    "        return Snow(self.flakes + other.flakes)\n",
    "\n",
    "    def __sub__(self, other: 'Snow') -> 'Snow':\n",
    "        return Snow(self.flakes - other.flakes)\n",
    "\n",
    "    def __mul__(self, n: int) -> 'Snow':\n",
    "        return Snow(self.flakes * n)\n",
    "\n",
    "    def __truediv__(self, n: int) -> 'Snow':\n",
    "        if n != 0:\n",
    "            return Snow(round(self.flakes / n))\n",
    "        raise ValueError(\"Division by zero\")\n",
    "\n",
    "    def makeSnow(self, row_flakes: int) -> str:\n",
    "        if row_flakes <= 0:\n",
    "            raise ValueError(\"Count of flakes must be positive\")\n",
    "        rows: int = self.flakes // row_flakes\n",
    "        return (\"* \" * row_flakes + '\\n') * rows\n",
    "\n",
    "    def __call__(self, new_flakes: int) -> None:\n",
    "        self.flakes = new_flakes\n",
    "\n",
    "    def __str__(self) -> str:\n",
    "        return f\"Flakes count: {self.flakes}\"\n",
    "\n",
    "\n",
    "snow1 = Snow(20)\n",
    "snow2 = Snow(5)\n",
    "\n",
    "print(snow1 + snow2)\n",
    "print(snow1 - snow2)\n",
    "print(snow1 * 2)\n",
    "print(snow1 / 3)\n",
    "print(snow1.makeSnow(3))\n",
    "snow1(20)\n",
    "print(snow1)\n"
   ]
  },
  {
   "cell_type": "code",
   "execution_count": null,
   "id": "fbe96aeb-d934-4f63-9e23-54176fb74f59",
   "metadata": {},
   "outputs": [],
   "source": []
  }
 ],
 "metadata": {
  "kernelspec": {
   "display_name": "Python 3 (ipykernel)",
   "language": "python",
   "name": "python3"
  },
  "language_info": {
   "codemirror_mode": {
    "name": "ipython",
    "version": 3
   },
   "file_extension": ".py",
   "mimetype": "text/x-python",
   "name": "python",
   "nbconvert_exporter": "python",
   "pygments_lexer": "ipython3",
   "version": "3.12.4"
  }
 },
 "nbformat": 4,
 "nbformat_minor": 5
}
