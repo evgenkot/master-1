{
 "cells": [
  {
   "cell_type": "markdown",
   "id": "2a2535b7-ce57-4b47-a379-69d643dec483",
   "metadata": {},
   "source": [
    "## Задание 1:\n",
    "Привидите практические примеры всех унарных функций, перечисленных выше. В отдельной строке перед примером необходимо дать описание каждой функции.\n",
    "Унарные u-функции: abs, fabs; sqrt; square; exp; log, log10, log2, log1p; sign; ceil; floor; rint; modf; isnan; isfinite, isinf; cos, cosh, sin, sinh, tan, tanh; arccos, arccosh, arcsin, arcsinh, arctan, arctanh; logical_not"
   ]
  },
  {
   "cell_type": "code",
   "execution_count": 1,
   "id": "6911ca5f-f42d-4261-a673-21e363a908e1",
   "metadata": {},
   "outputs": [
    {
     "name": "stdout",
     "output_type": "stream",
     "text": [
      "abs: [1 2 3 4] int64\n",
      "fabs: [1. 2. 3. 4.] float64\n",
      "fabs: [1.5 2.5 3.5 4.5]\n",
      "sqrt: [1. 2. 3. 4.]\n",
      "square: [ 1  4  9 16]\n",
      "exp: [1.         2.71828183 7.3890561 ]\n",
      "log: [0. 1. 2.]\n",
      "log10: [1. 2. 3.]\n",
      "log2: [1. 2. 3.]\n",
      "log1p: [0.         0.69314718 1.09861229]\n",
      "sign: [-1  0  1]\n",
      "ceil: [2. 3. 4.]\n",
      "floor: [1. 2. 3.]\n",
      "rint: [1. 2. 4.]\n",
      "modf: (array([0.5, 0.3, 0.7]), array([1., 2., 3.]))\n",
      "isnan: [False False  True False]\n",
      "isfinite: [ True  True False False False]\n",
      "isinf: [False False  True  True]\n",
      "cos: [ 1.000000e+00  6.123234e-17 -1.000000e+00]\n",
      "cosh: [1.         1.54308063 3.76219569]\n",
      "sin: [0.0000000e+00 1.0000000e+00 1.2246468e-16]\n",
      "sinh: [0.         1.17520119 3.62686041]\n",
      "tan: [0.00000000e+00 1.00000000e+00 1.63312394e+16]\n",
      "tanh: [0.         0.76159416 0.96402758]\n",
      "arccos: [0.         1.57079633 3.14159265]\n",
      "arccosh: [0.        1.3169579]\n",
      "arcsin: [0.         0.52359878 1.57079633]\n",
      "arcsinh: [0.         0.88137359 1.44363548]\n",
      "arctan: [ 0.          0.78539816 -0.78539816]\n",
      "arctanh: [0.         0.54930614]\n",
      "logical_not: [False  True False]\n"
     ]
    }
   ],
   "source": [
    "import numpy as np\n",
    "\n",
    "# 1. abs: Возвращает абсолютное значение каждого элемента массива, для целых чисел не меняет тип.\n",
    "arr = np.array([-1, -2, 3, -4])\n",
    "print(\"abs:\", np.abs(arr), np.abs(arr).dtype)\n",
    "print(\"fabs:\", np.fabs(arr), np.fabs(arr).dtype)\n",
    "\n",
    "# 2. fabs: Аналогично abs, но возвращает вещественные числа.\n",
    "arr_float = np.array([-1.5, -2.5, 3.5, -4.5])\n",
    "print(\"fabs:\", np.fabs(arr_float))\n",
    "\n",
    "# 3. sqrt: Возвращает квадратный корень каждого элемента массива.\n",
    "arr_sqrt = np.array([1, 4, 9, 16])\n",
    "print(\"sqrt:\", np.sqrt(arr_sqrt))\n",
    "\n",
    "# 4. square: Возвращает квадрат каждого элемента массива.\n",
    "arr_square = np.array([1, 2, 3, 4])\n",
    "print(\"square:\", np.square(arr_square))\n",
    "\n",
    "# 5. exp: Возвращает значение e, возведённое в степень каждого элемента массива.\n",
    "arr_exp = np.array([0, 1, 2])\n",
    "print(\"exp:\", np.exp(arr_exp))\n",
    "\n",
    "# 6. log: Возвращает логарифм по основанию e каждого элемента массива.\n",
    "arr_log = np.array([1, np.e, np.e**2])\n",
    "print(\"log:\", np.log(arr_log))\n",
    "\n",
    "# 7. log10: Возвращает логарифм по основанию 10 каждого элемента массива.\n",
    "arr_log10 = np.array([10, 100, 1000])\n",
    "print(\"log10:\", np.log10(arr_log10))\n",
    "\n",
    "# 8. log2: Возвращает логарифм по основанию 2 каждого элемента массива.\n",
    "arr_log2 = np.array([2, 4, 8])\n",
    "print(\"log2:\", np.log2(arr_log2))\n",
    "\n",
    "# 9. log1p: Возвращает логарифм (1 + x) для каждого элемента массива.\n",
    "arr_log1p = np.array([0, 1, 2])\n",
    "print(\"log1p:\", np.log1p(arr_log1p))\n",
    "\n",
    "# 10. sign: Возвращает знак каждого элемента массива (-1, 0 или 1).\n",
    "arr_sign = np.array([-5, 0, 5])\n",
    "print(\"sign:\", np.sign(arr_sign))\n",
    "\n",
    "# 11. ceil: Округляет каждый элемент массива вверх до ближайшего целого.\n",
    "arr_ceil = np.array([1.1, 2.5, 3.9])\n",
    "print(\"ceil:\", np.ceil(arr_ceil))\n",
    "\n",
    "# 12. floor: Округляет каждый элемент массива вниз до ближайшего целого.\n",
    "arr_floor = np.array([1.1, 2.5, 3.9])\n",
    "print(\"floor:\", np.floor(arr_floor))\n",
    "\n",
    "# 13. rint: Округляет каждый элемент массива до ближайшего целого.\n",
    "arr_rint = np.array([1.1, 2.5, 3.9])\n",
    "print(\"rint:\", np.rint(arr_rint))\n",
    "\n",
    "# 14. modf: Разделяет дробную и целую части каждого элемента массива.\n",
    "arr_modf = np.array([1.5, 2.3, 3.7])\n",
    "print(\"modf:\", np.modf(arr_modf))\n",
    "\n",
    "# 15. isnan: Возвращает булев массив, указывающий, является ли каждый элемент NaN (Not a Number).\n",
    "arr_nan = np.array([1, 2, np.nan, 4])\n",
    "print(\"isnan:\", np.isnan(arr_nan))\n",
    "\n",
    "# 16. isfinite: Возвращает булев массив, указывающий, является ли каждый элемент конечным.\n",
    "arr_finite = np.array([1, 2, np.inf, -np.inf, np.nan])\n",
    "print(\"isfinite:\", np.isfinite(arr_finite))\n",
    "\n",
    "# 17. isinf: Возвращает булев массив, указывающий, является ли каждый элемент бесконечным.\n",
    "arr_inf = np.array([1, 2, np.inf, -np.inf])\n",
    "print(\"isinf:\", np.isinf(arr_inf))\n",
    "\n",
    "# 18. cos: Косинус каждого элемента массива.\n",
    "arr_cos = np.array([0, np.pi/2, np.pi])\n",
    "print(\"cos:\", np.cos(arr_cos))\n",
    "\n",
    "# 19. cosh: Гиперболический косинус каждого элемента массива.\n",
    "arr_cosh = np.array([0, 1, 2])\n",
    "print(\"cosh:\", np.cosh(arr_cosh))\n",
    "\n",
    "# 20. sin: Синус каждого элемента массива.\n",
    "arr_sin = np.array([0, np.pi/2, np.pi])\n",
    "print(\"sin:\", np.sin(arr_sin))\n",
    "\n",
    "# 21. sinh: Гиперболический синус каждого элемента массива.\n",
    "arr_sinh = np.array([0, 1, 2])\n",
    "print(\"sinh:\", np.sinh(arr_sinh))\n",
    "\n",
    "# 22. tan: Тангенс каждого элемента массива.\n",
    "arr_tan = np.array([0, np.pi/4, np.pi/2])\n",
    "print(\"tan:\", np.tan(arr_tan))\n",
    "\n",
    "# 23. tanh: Гиперболический тангенс каждого элемента массива.\n",
    "arr_tanh = np.array([0, 1, 2])\n",
    "print(\"tanh:\", np.tanh(arr_tanh))\n",
    "\n",
    "# 24. arccos: Арккосинус каждого элемента массива.\n",
    "arr_arccos = np.array([1, 0, -1])\n",
    "print(\"arccos:\", np.arccos(arr_arccos))\n",
    "\n",
    "# 25. arccosh: Арккосинус гиперболический каждого элемента массива.\n",
    "arr_arccosh = np.array([1, 2])\n",
    "print(\"arccosh:\", np.arccosh(arr_arccosh))\n",
    "\n",
    "# 26. arcsin: Арксинус каждого элемента массива.\n",
    "arr_arcsin = np.array([0, 0.5, 1])\n",
    "print(\"arcsin:\", np.arcsin(arr_arcsin))\n",
    "\n",
    "# 27. arcsinh: Арксинус гиперболический каждого элемента массива.\n",
    "arr_arcsinh = np.array([0, 1, 2])\n",
    "print(\"arcsinh:\", np.arcsinh(arr_arcsinh))\n",
    "\n",
    "# 28. arctan: Арктангенс каждого элемента массива.\n",
    "arr_arctan = np.array([0, 1, -1])\n",
    "print(\"arctan:\", np.arctan(arr_arctan))\n",
    "\n",
    "# 29. arctanh: Арктангенс гиперболический каждого элемента массива.\n",
    "arr_arctanh = np.array([0, 0.5])\n",
    "print(\"arctanh:\", np.arctanh(arr_arctanh))\n",
    "\n",
    "# 30. logical_not: Возвращает логическое отрицание каждого элемента массива.\n",
    "arr_logical = np.array([True, False, True])\n",
    "print(\"logical_not:\", np.logical_not(arr_logical))\n"
   ]
  },
  {
   "cell_type": "markdown",
   "id": "89260eec-818a-4363-8a19-5b3787c50658",
   "metadata": {},
   "source": [
    "Привидите практические примеры всех бинарных функций, перечисленных выше. В отдельной строке перед примером необходимо дать описание каждой функции.\n",
    "Бинарные u-функции: add; subtract; multiply; divide, floor_divide; power; maximum, fmax; minimum, fmin; mod; copysing; greater, greater_equal, less, less_equal, equal, not_equal; logical_and; logical_or; logical_xor."
   ]
  },
  {
   "cell_type": "code",
   "execution_count": 2,
   "id": "848f8be4-26e1-476a-b360-e62305a5065e",
   "metadata": {},
   "outputs": [
    {
     "name": "stdout",
     "output_type": "stream",
     "text": [
      "add: [5 7 9]\n",
      "subtract: [-3 -3 -3]\n",
      "multiply: [ 4 10 18]\n",
      "divide: [0.25 0.4  0.5 ]\n",
      "floor_divide: [0 0 0]\n",
      "power: [  1  32 729]\n",
      "maximum: [4 5 6]\n",
      "fmax: [4. 5. 6.]\n",
      "minimum: [1 2 3]\n",
      "fmin: [4. 2. 3.]\n",
      "mod: [1 2 3]\n",
      "copysign: [-1. -2. -3.]\n",
      "greater: [False False False]\n",
      "greater_equal: [False False False]\n",
      "less: [ True  True  True]\n",
      "less_equal: [ True  True  True]\n",
      "equal: [False False False]\n",
      "not_equal: [ True  True  True]\n",
      "logical_and: [ True False False]\n",
      "logical_or: [ True  True  True]\n",
      "logical_xor: [False  True  True]\n"
     ]
    }
   ],
   "source": [
    "import numpy as np\n",
    "\n",
    "# 1. add: Возвращает сумму двух массивов.\n",
    "arr1 = np.array([1, 2, 3])\n",
    "arr2 = np.array([4, 5, 6])\n",
    "print(\"add:\", np.add(arr1, arr2))\n",
    "\n",
    "# 2. subtract: Возвращает разность двух массивов.\n",
    "print(\"subtract:\", np.subtract(arr1, arr2))\n",
    "\n",
    "# 3. multiply: Возвращает произведение двух массивов.\n",
    "print(\"multiply:\", np.multiply(arr1, arr2))\n",
    "\n",
    "# 4. divide: Возвращает частное двух массивов.\n",
    "print(\"divide:\", np.divide(arr1, arr2))\n",
    "\n",
    "# 5. floor_divide: Возвращает целочисленное частное двух массивов.\n",
    "print(\"floor_divide:\", np.floor_divide(arr1, arr2))\n",
    "\n",
    "# 6. power: Возвращает результат возведения элементов первого массива в степень элементов второго массива.\n",
    "print(\"power:\", np.power(arr1, arr2))\n",
    "\n",
    "# 7. maximum: Возвращает массив, содержащий поэлементные максимумы двух массивов.\n",
    "print(\"maximum:\", np.maximum(arr1, arr2))\n",
    "\n",
    "# 8. fmax: Возвращает массив, содержащий поэлементные максимумы двух массивов, игнорируя NaN.\n",
    "arr3 = np.array([np.nan, 2, 3])\n",
    "print(\"fmax:\", np.fmax(arr3, arr2))\n",
    "\n",
    "# 9. minimum: Возвращает массив, содержащий поэлементные минимумы двух массивов.\n",
    "print(\"minimum:\", np.minimum(arr1, arr2))\n",
    "\n",
    "# 10. fmin: Возвращает массив, содержащий поэлементные минимумы двух массивов, игнорируя NaN.\n",
    "print(\"fmin:\", np.fmin(arr3, arr2))\n",
    "\n",
    "# 11. mod: Возвращает остаток от деления элементов первого массива на элементы второго массива.\n",
    "print(\"mod:\", np.mod(arr1, arr2))\n",
    "\n",
    "# 12. copysign: Возвращает массив, в котором элементы первого массива имеют знак элементов второго массива.\n",
    "arr4 = np.array([-1, -2, -3])\n",
    "print(\"copysign:\", np.copysign(arr1, arr4))\n",
    "\n",
    "# 13. greater: Возвращает булев массив, указывающий, являются ли элементы первого массива больше соответствующих элементов второго массива.\n",
    "print(\"greater:\", np.greater(arr1, arr2))\n",
    "\n",
    "# 14. greater_equal: Возвращает булев массив, указывающий, являются ли элементы первого массива больше или равны соответствующим элементам второго массива.\n",
    "print(\"greater_equal:\", np.greater_equal(arr1, arr2))\n",
    "\n",
    "# 15. less: Возвращает булев массив, указывающий, являются ли элементы первого массива меньше соответствующих элементов второго массива.\n",
    "print(\"less:\", np.less(arr1, arr2))\n",
    "\n",
    "# 16. less_equal: Возвращает булев массив, указывающий, являются ли элементы первого массива меньше или равны соответствующим элементам второго массива.\n",
    "print(\"less_equal:\", np.less_equal(arr1, arr2))\n",
    "\n",
    "# 17. equal: Возвращает булев массив, указывающий, равны ли элементы двух массивов.\n",
    "print(\"equal:\", np.equal(arr1, arr2))\n",
    "\n",
    "# 18. not_equal: Возвращает булев массив, указывающий, не равны ли элементы двух массивов.\n",
    "print(\"not_equal:\", np.not_equal(arr1, arr2))\n",
    "\n",
    "# 19. logical_and: Возвращает булев массив, указывающий, являются ли элементы двух массивов истинными одновременно.\n",
    "arr5 = np.array([True, False, True])\n",
    "arr6 = np.array([True, True, False])\n",
    "print(\"logical_and:\", np.logical_and(arr5, arr6))\n",
    "\n",
    "# 20. logical_or: Возвращает булев массив, указывающий, являются ли элементы двух массивов истинными хотя бы один раз.\n",
    "print(\"logical_or:\", np.logical_or(arr5, arr6))\n",
    "\n",
    "# 21. logical_xor: Возвращает булев массив, указывающий, являются ли элементы двух массивов истинными только в одном из них.\n",
    "print(\"logical_xor:\", np.logical_xor(arr5, arr6))\n"
   ]
  },
  {
   "cell_type": "markdown",
   "id": "72185929-96d5-439f-9ef4-818773d62d61",
   "metadata": {},
   "source": [
    "## Задание 2:\n",
    "Привидите практические примеры всех статических методов массива, перечисленных выше. В отдельной строке перед примером необходимо дать описание каждого метода.\n",
    "Статические методы массива: sum; mean; std, var; min, max; argmin, argmax; cumsum; cumprod."
   ]
  },
  {
   "cell_type": "code",
   "execution_count": 3,
   "id": "8c961ce1-8c3c-4251-8f3e-4a786786b33d",
   "metadata": {},
   "outputs": [
    {
     "name": "stdout",
     "output_type": "stream",
     "text": [
      "sum: 15\n",
      "mean: 3.0\n",
      "std: 1.4142135623730951\n",
      "var: 2.0\n",
      "min: 1\n",
      "max: 5\n",
      "argmin: 0\n",
      "argmax: 4\n",
      "cumsum: [ 1  3  6 10 15]\n",
      "cumprod: [  1   2   6  24 120]\n"
     ]
    }
   ],
   "source": [
    "import numpy as np\n",
    "\n",
    "arr = np.array([1, 2, 3, 4, 5])\n",
    "\n",
    "# 1. sum: Возвращает сумму всех элементов массива.\n",
    "print(\"sum:\", np.sum(arr))\n",
    "\n",
    "# 2. mean: Возвращает среднее значение всех элементов массива.\n",
    "print(\"mean:\", np.mean(arr))\n",
    "\n",
    "# 3. std: Возвращает стандартное отклонение элементов массива.\n",
    "print(\"std:\", np.std(arr))\n",
    "\n",
    "# 4. var: Возвращает дисперсию элементов массива.\n",
    "print(\"var:\", np.var(arr))\n",
    "\n",
    "# 5. min: Возвращает минимальное значение среди элементов массива.\n",
    "print(\"min:\", np.min(arr))\n",
    "\n",
    "# 6. max: Возвращает максимальное значение среди элементов массива.\n",
    "print(\"max:\", np.max(arr))\n",
    "\n",
    "# 7. argmin: Возвращает индекс минимального значения в массиве.\n",
    "print(\"argmin:\", np.argmin(arr))\n",
    "\n",
    "# 8. argmax: Возвращает индекс максимального значения в массиве.\n",
    "print(\"argmax:\", np.argmax(arr))\n",
    "\n",
    "# 9. cumsum: Возвращает массив, содержащий накопительную сумму элементов.\n",
    "print(\"cumsum:\", np.cumsum(arr))\n",
    "\n",
    "# 10. cumprod: Возвращает массив, содержащий накопительное произведение элементов.\n",
    "print(\"cumprod:\", np.cumprod(arr))\n"
   ]
  },
  {
   "cell_type": "markdown",
   "id": "7e2b6a6f-1d7c-4368-9f64-9fd0e8940b47",
   "metadata": {},
   "source": [
    "# Задание 3:\n",
    "Привидите практические примеры всех теоретико-множественных функций. В отдельной строке перед примером\n",
    "необходимо дать описание каждой функции.\n",
    "Теоретико-множественные функции, имеющиеся в NumPy: unique(x); intersect1d(x, y); union1d(x, y); in1d(x, y); setdiff1d(x, y);\n",
    "setxor1d(x, y)."
   ]
  },
  {
   "cell_type": "code",
   "execution_count": 4,
   "id": "0c60df95-8df6-478f-a6de-a6a37be242a8",
   "metadata": {},
   "outputs": [
    {
     "name": "stdout",
     "output_type": "stream",
     "text": [
      "unique: [1 2 3 4 5]\n",
      "intersect1d: [4 5]\n",
      "union1d: [1 2 3 4 5 6 7 8]\n",
      "in1d: [False False False  True  True]\n",
      "isin: [False False False  True  True]\n",
      "setdiff1d: [1 2 3]\n",
      "setxor1d: [1 2 3 6 7 8]\n"
     ]
    },
    {
     "name": "stderr",
     "output_type": "stream",
     "text": [
      "/tmp/ipykernel_166025/3234036641.py:17: DeprecationWarning: `in1d` is deprecated. Use `np.isin` instead.\n",
      "  print(\"in1d:\", np.in1d(x, y))\n"
     ]
    }
   ],
   "source": [
    "import numpy as np\n",
    "\n",
    "# Создаем примеры массивов\n",
    "x = np.array([1, 2, 3, 4, 5])\n",
    "y = np.array([4, 5, 6, 7, 8])\n",
    "\n",
    "# 1. unique: Возвращает уникальные элементы массива.\n",
    "print(\"unique:\", np.unique(x))\n",
    "\n",
    "# 2. intersect1d: Возвращает пересечение двух массивов (общие элементы).\n",
    "print(\"intersect1d:\", np.intersect1d(x, y))\n",
    "\n",
    "# 3. union1d: Возвращает объединение двух массивов (все уникальные элементы из обоих массивов).\n",
    "print(\"union1d:\", np.union1d(x, y))\n",
    "\n",
    "# 4. in1d: Возвращает булев массив, указывающий, содержатся ли элементы первого массива во втором массиве.\n",
    "print(\"in1d:\", np.in1d(x, y))\n",
    "print(\"isin:\", np.isin(x, y))\n",
    "\n",
    "# 5. setdiff1d: Возвращает элементы первого массива, которые не содержатся во втором массиве.\n",
    "print(\"setdiff1d:\", np.setdiff1d(x, y))\n",
    "\n",
    "# 6. setxor1d: Возвращает элементы, которые находятся только в одном из массивов (симметрическая разность).\n",
    "print(\"setxor1d:\", np.setxor1d(x, y))"
   ]
  },
  {
   "cell_type": "code",
   "execution_count": 5,
   "id": "a973bd8b-a0c5-4814-b39a-cec0551720dc",
   "metadata": {},
   "outputs": [
    {
     "data": {
      "text/plain": [
       "array([ 0,  1,  2,  3,  4,  5,  6,  7,  8,  9, 10, 11])"
      ]
     },
     "execution_count": 5,
     "metadata": {},
     "output_type": "execute_result"
    }
   ],
   "source": [
    "import numpy as np\n",
    "arr = np.arange(12)\n",
    "arr"
   ]
  },
  {
   "cell_type": "code",
   "execution_count": 6,
   "id": "ac0f9b2f-6f1e-4dde-8246-c4a68c3f6caa",
   "metadata": {},
   "outputs": [
    {
     "data": {
      "text/plain": [
       "array([0.        , 1.        , 1.41421356, 1.73205081, 2.        ,\n",
       "       2.23606798, 2.44948974, 2.64575131, 2.82842712, 3.        ,\n",
       "       3.16227766, 3.31662479])"
      ]
     },
     "execution_count": 6,
     "metadata": {},
     "output_type": "execute_result"
    }
   ],
   "source": [
    "np.sqrt(arr)"
   ]
  },
  {
   "cell_type": "code",
   "execution_count": 7,
   "id": "88cbdcb4-cc61-483e-b552-638d740116df",
   "metadata": {},
   "outputs": [
    {
     "data": {
      "text/plain": [
       "array([1.00000000e+00, 2.71828183e+00, 7.38905610e+00, 2.00855369e+01,\n",
       "       5.45981500e+01, 1.48413159e+02, 4.03428793e+02, 1.09663316e+03,\n",
       "       2.98095799e+03, 8.10308393e+03, 2.20264658e+04, 5.98741417e+04])"
      ]
     },
     "execution_count": 7,
     "metadata": {},
     "output_type": "execute_result"
    }
   ],
   "source": [
    "np.exp(arr)"
   ]
  },
  {
   "cell_type": "code",
   "execution_count": 8,
   "id": "9fc9fe15-fa42-418c-8e74-d9421c434301",
   "metadata": {},
   "outputs": [],
   "source": [
    "import numpy as np\n",
    "x = np.random.randn(8)\n",
    "y = np.random.randn(8)"
   ]
  },
  {
   "cell_type": "code",
   "execution_count": 9,
   "id": "d6a12816-1cfa-41ac-92df-9e7d3517eb37",
   "metadata": {},
   "outputs": [
    {
     "data": {
      "text/plain": [
       "array([-0.33378346, -0.74137205, -0.01682026, -0.38966262,  0.27006014,\n",
       "        0.24760093, -0.98648396, -0.85801473])"
      ]
     },
     "execution_count": 9,
     "metadata": {},
     "output_type": "execute_result"
    }
   ],
   "source": [
    "x"
   ]
  },
  {
   "cell_type": "code",
   "execution_count": 10,
   "id": "9badf107-e5e3-4814-9d64-acf55a244f2e",
   "metadata": {},
   "outputs": [
    {
     "data": {
      "text/plain": [
       "array([-0.10429341,  0.25178481,  0.91575216, -0.21595735, -0.9414815 ,\n",
       "       -0.35490174,  0.6331016 ,  1.31831559])"
      ]
     },
     "execution_count": 10,
     "metadata": {},
     "output_type": "execute_result"
    }
   ],
   "source": [
    "y"
   ]
  },
  {
   "cell_type": "code",
   "execution_count": 11,
   "id": "d6964605-1cfb-4925-9be0-2483ae959d49",
   "metadata": {},
   "outputs": [
    {
     "data": {
      "text/plain": [
       "array([-0.10429341,  0.25178481,  0.91575216, -0.21595735,  0.27006014,\n",
       "        0.24760093,  0.6331016 ,  1.31831559])"
      ]
     },
     "execution_count": 11,
     "metadata": {},
     "output_type": "execute_result"
    }
   ],
   "source": [
    "np.maximum(x, y)"
   ]
  },
  {
   "cell_type": "code",
   "execution_count": 12,
   "id": "04433218-bd02-4e2c-8eab-fac94135067f",
   "metadata": {},
   "outputs": [
    {
     "data": {
      "text/plain": [
       "array([-2.36165446, -1.47039664,  0.26867255,  2.25622905, -3.63966502,\n",
       "        5.34656184, -7.64279523])"
      ]
     },
     "execution_count": 12,
     "metadata": {},
     "output_type": "execute_result"
    }
   ],
   "source": [
    "import numpy as np\n",
    "arr = np.random.randn(7) * 5\n",
    "arr"
   ]
  },
  {
   "cell_type": "code",
   "execution_count": 13,
   "id": "cced65cf-fae5-4707-a07a-61dec1f86775",
   "metadata": {},
   "outputs": [
    {
     "data": {
      "text/plain": [
       "array([-0.36165446, -0.47039664,  0.26867255,  0.25622905, -0.63966502,\n",
       "        0.34656184, -0.64279523])"
      ]
     },
     "execution_count": 13,
     "metadata": {},
     "output_type": "execute_result"
    }
   ],
   "source": [
    "remaider, whole_part = np.modf(arr)\n",
    "remaider"
   ]
  },
  {
   "cell_type": "code",
   "execution_count": 14,
   "id": "1bdc9608-04d7-40fd-aebc-fbf2dce7f2f8",
   "metadata": {},
   "outputs": [
    {
     "data": {
      "text/plain": [
       "array([-2., -1.,  0.,  2., -3.,  5., -7.])"
      ]
     },
     "execution_count": 14,
     "metadata": {},
     "output_type": "execute_result"
    }
   ],
   "source": [
    "whole_part"
   ]
  },
  {
   "cell_type": "code",
   "execution_count": 15,
   "id": "41805922-0ee7-4a6f-bfdc-85ba3b229d19",
   "metadata": {},
   "outputs": [
    {
     "data": {
      "text/plain": [
       "array([-2.36165446, -1.47039664,  0.26867255,  2.25622905, -3.63966502,\n",
       "        5.34656184, -7.64279523])"
      ]
     },
     "execution_count": 15,
     "metadata": {},
     "output_type": "execute_result"
    }
   ],
   "source": [
    "arr"
   ]
  },
  {
   "cell_type": "code",
   "execution_count": 16,
   "id": "c5e19edb-d199-4876-b72b-11ea4b6d4964",
   "metadata": {},
   "outputs": [
    {
     "name": "stderr",
     "output_type": "stream",
     "text": [
      "/tmp/ipykernel_166025/2296558006.py:1: RuntimeWarning: invalid value encountered in sqrt\n",
      "  np.sqrt(arr)\n"
     ]
    },
    {
     "data": {
      "text/plain": [
       "array([       nan,        nan, 0.51833633, 1.50207492,        nan,\n",
       "       2.31226336,        nan])"
      ]
     },
     "execution_count": 16,
     "metadata": {},
     "output_type": "execute_result"
    }
   ],
   "source": [
    "np.sqrt(arr)"
   ]
  },
  {
   "cell_type": "code",
   "execution_count": 17,
   "id": "e7d9859f-73f7-4afe-b689-e8120a6db00d",
   "metadata": {},
   "outputs": [
    {
     "name": "stderr",
     "output_type": "stream",
     "text": [
      "/tmp/ipykernel_166025/269955669.py:1: RuntimeWarning: invalid value encountered in sqrt\n",
      "  np.sqrt(arr, arr)\n"
     ]
    },
    {
     "data": {
      "text/plain": [
       "array([       nan,        nan, 0.51833633, 1.50207492,        nan,\n",
       "       2.31226336,        nan])"
      ]
     },
     "execution_count": 17,
     "metadata": {},
     "output_type": "execute_result"
    }
   ],
   "source": [
    "np.sqrt(arr, arr)"
   ]
  },
  {
   "cell_type": "code",
   "execution_count": 18,
   "id": "9b37f9d3-2167-4e52-86bb-6a2c7d1964a2",
   "metadata": {},
   "outputs": [
    {
     "data": {
      "text/plain": [
       "array([       nan,        nan, 0.51833633, 1.50207492,        nan,\n",
       "       2.31226336,        nan])"
      ]
     },
     "execution_count": 18,
     "metadata": {},
     "output_type": "execute_result"
    }
   ],
   "source": [
    "arr"
   ]
  },
  {
   "cell_type": "markdown",
   "id": "a73ae669-dff3-43bb-9fae-9f1ac078e50c",
   "metadata": {},
   "source": [
    "Программирование с применением массивов"
   ]
  },
  {
   "cell_type": "code",
   "execution_count": 19,
   "id": "a9970735-7bf5-4105-b48b-96df0f27cc3c",
   "metadata": {},
   "outputs": [],
   "source": [
    "import numpy as np\n",
    "xarr = np.array([1.1, 1.2, 1.3, 1.4, 1.5])\n",
    "yarr = np.array([2.1, 2.2, 2.3, 2.4, 2.5])\n",
    "cond = np.array([True, False, True, True, False])"
   ]
  },
  {
   "cell_type": "code",
   "execution_count": 20,
   "id": "70b1f1e6-ecb2-4bfd-9ac2-713a47dfbc4f",
   "metadata": {},
   "outputs": [
    {
     "data": {
      "text/plain": [
       "[np.float64(1.1),\n",
       " np.float64(2.2),\n",
       " np.float64(1.3),\n",
       " np.float64(1.4),\n",
       " np.float64(2.5)]"
      ]
     },
     "execution_count": 20,
     "metadata": {},
     "output_type": "execute_result"
    }
   ],
   "source": [
    "result = [(x if c else y)\n",
    "for x, y, c in zip(xarr, yarr, cond)]\n",
    "result"
   ]
  },
  {
   "cell_type": "code",
   "execution_count": 21,
   "id": "525379a7-3ff4-4a9c-9c8b-65ebef9f14f4",
   "metadata": {},
   "outputs": [
    {
     "data": {
      "text/plain": [
       "array([1.1, 2.2, 1.3, 1.4, 2.5])"
      ]
     },
     "execution_count": 21,
     "metadata": {},
     "output_type": "execute_result"
    }
   ],
   "source": [
    "result = np.where(cond, xarr, yarr)\n",
    "result"
   ]
  },
  {
   "cell_type": "code",
   "execution_count": 22,
   "id": "74990252-9193-4e16-881c-0f85253cbc58",
   "metadata": {},
   "outputs": [
    {
     "data": {
      "text/plain": [
       "array([[ 0.01710871,  0.25285783,  1.27207102,  1.2401418 ],\n",
       "       [ 0.01596141,  0.9715564 , -0.73975863,  0.35706666],\n",
       "       [-1.00802773,  2.85611489,  0.97576   ,  1.69697803],\n",
       "       [ 0.44143211, -1.46323324, -1.41160319,  0.40173362]])"
      ]
     },
     "execution_count": 22,
     "metadata": {},
     "output_type": "execute_result"
    }
   ],
   "source": [
    "import numpy as np\n",
    "arr = np.random.randn(4, 4)\n",
    "arr"
   ]
  },
  {
   "cell_type": "code",
   "execution_count": 23,
   "id": "fa795825-aefc-4434-8576-2ccf4bc657ed",
   "metadata": {},
   "outputs": [
    {
     "data": {
      "text/plain": [
       "array([[ True,  True,  True,  True],\n",
       "       [ True,  True, False,  True],\n",
       "       [False,  True,  True,  True],\n",
       "       [ True, False, False,  True]])"
      ]
     },
     "execution_count": 23,
     "metadata": {},
     "output_type": "execute_result"
    }
   ],
   "source": [
    "arr > 0"
   ]
  },
  {
   "cell_type": "code",
   "execution_count": 24,
   "id": "188be1e6-5baf-456c-891b-dc33ba4af490",
   "metadata": {},
   "outputs": [
    {
     "data": {
      "text/plain": [
       "array([[ 2,  2,  2,  2],\n",
       "       [ 2,  2, -2,  2],\n",
       "       [-2,  2,  2,  2],\n",
       "       [ 2, -2, -2,  2]])"
      ]
     },
     "execution_count": 24,
     "metadata": {},
     "output_type": "execute_result"
    }
   ],
   "source": [
    "np.where(arr > 0, 2, -2)"
   ]
  },
  {
   "cell_type": "code",
   "execution_count": 25,
   "id": "3408af63-be59-4935-81f4-e4633650fc28",
   "metadata": {},
   "outputs": [
    {
     "data": {
      "text/plain": [
       "array([[ 2.        ,  2.        ,  2.        ,  2.        ],\n",
       "       [ 2.        ,  2.        , -0.73975863,  2.        ],\n",
       "       [-1.00802773,  2.        ,  2.        ,  2.        ],\n",
       "       [ 2.        , -1.46323324, -1.41160319,  2.        ]])"
      ]
     },
     "execution_count": 25,
     "metadata": {},
     "output_type": "execute_result"
    }
   ],
   "source": [
    "np.where(arr > 0, 2, arr)"
   ]
  },
  {
   "cell_type": "markdown",
   "id": "6bbd2b9f-f7b9-4374-bf22-cc4218469140",
   "metadata": {},
   "source": [
    "Математические и статистические операции"
   ]
  },
  {
   "cell_type": "code",
   "execution_count": 26,
   "id": "f3a9f6f5-6f10-475e-adc5-3ef72f88bae9",
   "metadata": {},
   "outputs": [
    {
     "data": {
      "text/plain": [
       "array([[ 0.41127618, -0.63042735, -0.12855979,  0.19138835],\n",
       "       [-1.37557362,  0.27606543, -0.62464975, -1.10094754],\n",
       "       [-0.39738567, -0.62226964,  0.79419431,  0.12993419],\n",
       "       [ 0.19688046,  2.23593499, -0.50938238, -1.55275448],\n",
       "       [ 0.4011385 , -1.257572  ,  0.1730135 , -0.84672223]])"
      ]
     },
     "execution_count": 26,
     "metadata": {},
     "output_type": "execute_result"
    }
   ],
   "source": [
    "import numpy as np\n",
    "arr = np.random.randn(5, 4)\n",
    "arr"
   ]
  },
  {
   "cell_type": "code",
   "execution_count": 27,
   "id": "d2b7d052-fec7-481a-b081-47751d7b4abf",
   "metadata": {},
   "outputs": [
    {
     "data": {
      "text/plain": [
       "np.float64(-0.21182092625119547)"
      ]
     },
     "execution_count": 27,
     "metadata": {},
     "output_type": "execute_result"
    }
   ],
   "source": [
    "arr.mean()"
   ]
  },
  {
   "cell_type": "code",
   "execution_count": 28,
   "id": "eb7744b7-251a-49c2-872f-6fcf6e3eec7b",
   "metadata": {},
   "outputs": [
    {
     "data": {
      "text/plain": [
       "np.float64(-0.21182092625119547)"
      ]
     },
     "execution_count": 28,
     "metadata": {},
     "output_type": "execute_result"
    }
   ],
   "source": [
    "np.mean(arr)"
   ]
  },
  {
   "cell_type": "code",
   "execution_count": 29,
   "id": "4567af3a-031e-47c2-af09-00e8cc89c232",
   "metadata": {},
   "outputs": [
    {
     "data": {
      "text/plain": [
       "np.float64(-4.236418525023909)"
      ]
     },
     "execution_count": 29,
     "metadata": {},
     "output_type": "execute_result"
    }
   ],
   "source": [
    "arr.sum()"
   ]
  },
  {
   "cell_type": "code",
   "execution_count": 30,
   "id": "d55a79a9-ee4d-47ae-8992-b2bc26c417a8",
   "metadata": {},
   "outputs": [
    {
     "data": {
      "text/plain": [
       "array([-0.03908065, -0.70627637, -0.0238817 ,  0.09266965, -0.38253556])"
      ]
     },
     "execution_count": 30,
     "metadata": {},
     "output_type": "execute_result"
    }
   ],
   "source": [
    "arr.mean(axis=1)"
   ]
  },
  {
   "cell_type": "code",
   "execution_count": 31,
   "id": "9f6ffdf5-aa86-4d18-b586-ed4d4a37be5b",
   "metadata": {},
   "outputs": [
    {
     "data": {
      "text/plain": [
       "array([-7.63664150e-01,  1.73143347e-03, -2.95384112e-01, -3.17910170e+00])"
      ]
     },
     "execution_count": 31,
     "metadata": {},
     "output_type": "execute_result"
    }
   ],
   "source": [
    "arr.sum(axis=0)"
   ]
  },
  {
   "cell_type": "code",
   "execution_count": 32,
   "id": "ab5ed9b3-f5cd-4495-bee7-cf28a4778464",
   "metadata": {},
   "outputs": [
    {
     "data": {
      "text/plain": [
       "array([ 1,  3,  6, 10, 15, 21, 28])"
      ]
     },
     "execution_count": 32,
     "metadata": {},
     "output_type": "execute_result"
    }
   ],
   "source": [
    "import numpy as np\n",
    "arr = np.array([1, 2, 3, 4, 5, 6, 7])\n",
    "arr.cumsum()"
   ]
  },
  {
   "cell_type": "code",
   "execution_count": 33,
   "id": "cb75d617-2cb1-4b4f-9189-ba51eda8d6be",
   "metadata": {},
   "outputs": [
    {
     "data": {
      "text/plain": [
       "array([[1, 2, 3],\n",
       "       [4, 5, 6],\n",
       "       [7, 8, 9]])"
      ]
     },
     "execution_count": 33,
     "metadata": {},
     "output_type": "execute_result"
    }
   ],
   "source": [
    "import numpy as np\n",
    "arr = np.array([[1, 2, 3], [4, 5, 6], [7, 8, 9]])\n",
    "arr"
   ]
  },
  {
   "cell_type": "code",
   "execution_count": 34,
   "id": "bd314958-dec6-4c9c-8cda-688d90953a69",
   "metadata": {},
   "outputs": [
    {
     "data": {
      "text/plain": [
       "array([[ 1,  2,  3],\n",
       "       [ 5,  7,  9],\n",
       "       [12, 15, 18]])"
      ]
     },
     "execution_count": 34,
     "metadata": {},
     "output_type": "execute_result"
    }
   ],
   "source": [
    "arr.cumsum(axis=0)"
   ]
  },
  {
   "cell_type": "code",
   "execution_count": 35,
   "id": "43e2403e-b48b-46ce-bb4f-32cf0f77621f",
   "metadata": {},
   "outputs": [
    {
     "data": {
      "text/plain": [
       "array([[  1,   2,   6],\n",
       "       [  4,  20, 120],\n",
       "       [  7,  56, 504]])"
      ]
     },
     "execution_count": 35,
     "metadata": {},
     "output_type": "execute_result"
    }
   ],
   "source": [
    "arr.cumprod(axis=1)"
   ]
  },
  {
   "cell_type": "markdown",
   "id": "385f2de4-007a-4b1a-8213-6f9b3fb2020b",
   "metadata": {},
   "source": [
    "Методы булевых массивов"
   ]
  },
  {
   "cell_type": "code",
   "execution_count": 36,
   "id": "8d074f03-eec9-4273-897e-a4644d2361ec",
   "metadata": {},
   "outputs": [
    {
     "data": {
      "text/plain": [
       "np.int64(50)"
      ]
     },
     "execution_count": 36,
     "metadata": {},
     "output_type": "execute_result"
    }
   ],
   "source": [
    "import numpy as np\n",
    "arr = np.random.randn(100)\n",
    "(arr > 0).sum() # количество положительных значений"
   ]
  },
  {
   "cell_type": "code",
   "execution_count": 37,
   "id": "1b9b3dca-ee01-4bdb-9a67-86e5cced22da",
   "metadata": {},
   "outputs": [
    {
     "data": {
      "text/plain": [
       "np.True_"
      ]
     },
     "execution_count": 37,
     "metadata": {},
     "output_type": "execute_result"
    }
   ],
   "source": [
    "import numpy as np\n",
    "bools = np.array([False, False, True, False])\n",
    "bools.any()"
   ]
  },
  {
   "cell_type": "code",
   "execution_count": 38,
   "id": "9a4b9674-8f35-40de-8563-cd9b05a5c16f",
   "metadata": {},
   "outputs": [
    {
     "data": {
      "text/plain": [
       "np.False_"
      ]
     },
     "execution_count": 38,
     "metadata": {},
     "output_type": "execute_result"
    }
   ],
   "source": [
    "bools.all()"
   ]
  },
  {
   "cell_type": "markdown",
   "id": "64b4bdf1-47ae-4b0f-a643-d6fb7c01ba63",
   "metadata": {},
   "source": [
    "Сортировка"
   ]
  },
  {
   "cell_type": "code",
   "execution_count": 39,
   "id": "49db0c2d-5e11-4796-afec-9f8d04bd00bc",
   "metadata": {},
   "outputs": [
    {
     "data": {
      "text/plain": [
       "array([-0.37790478, -1.02727861, -1.95583856,  2.07813476, -1.50939413,\n",
       "        0.22459518])"
      ]
     },
     "execution_count": 39,
     "metadata": {},
     "output_type": "execute_result"
    }
   ],
   "source": [
    "import numpy as np\n",
    "arr = np.random.randn(6)\n",
    "arr"
   ]
  },
  {
   "cell_type": "code",
   "execution_count": 40,
   "id": "b042a268-c3c9-4cb7-8279-231f094f177d",
   "metadata": {},
   "outputs": [
    {
     "data": {
      "text/plain": [
       "array([-1.95583856, -1.50939413, -1.02727861, -0.37790478,  0.22459518,\n",
       "        2.07813476])"
      ]
     },
     "execution_count": 40,
     "metadata": {},
     "output_type": "execute_result"
    }
   ],
   "source": [
    "arr.sort()\n",
    "arr"
   ]
  },
  {
   "cell_type": "code",
   "execution_count": 41,
   "id": "011dfa1f-3508-4038-bb47-92f4464daee7",
   "metadata": {},
   "outputs": [
    {
     "data": {
      "text/plain": [
       "array([[ 0.1081671 ,  0.12771816, -0.8507292 ],\n",
       "       [-0.72220435,  1.56629079,  1.09161824],\n",
       "       [ 1.07215575,  1.2070233 ,  0.39048487],\n",
       "       [-1.26029926,  1.24645294, -2.85240949],\n",
       "       [-0.88037734, -1.6546885 , -1.48284891]])"
      ]
     },
     "execution_count": 41,
     "metadata": {},
     "output_type": "execute_result"
    }
   ],
   "source": [
    "import numpy as np\n",
    "arr = np.random.randn(5, 3)\n",
    "arr"
   ]
  },
  {
   "cell_type": "code",
   "execution_count": 42,
   "id": "d5233c6c-258a-4631-8831-39de73cd4480",
   "metadata": {},
   "outputs": [
    {
     "data": {
      "text/plain": [
       "array([[-0.8507292 ,  0.1081671 ,  0.12771816],\n",
       "       [-0.72220435,  1.09161824,  1.56629079],\n",
       "       [ 0.39048487,  1.07215575,  1.2070233 ],\n",
       "       [-2.85240949, -1.26029926,  1.24645294],\n",
       "       [-1.6546885 , -1.48284891, -0.88037734]])"
      ]
     },
     "execution_count": 42,
     "metadata": {},
     "output_type": "execute_result"
    }
   ],
   "source": [
    "arr.sort(1)\n",
    "arr"
   ]
  },
  {
   "cell_type": "code",
   "execution_count": 43,
   "id": "0f604f40-7b83-42c9-9e11-d47a868ab083",
   "metadata": {},
   "outputs": [
    {
     "data": {
      "text/plain": [
       "np.float64(-1.7546329242346688)"
      ]
     },
     "execution_count": 43,
     "metadata": {},
     "output_type": "execute_result"
    }
   ],
   "source": [
    "import numpy as np\n",
    "large_arr = np.random.randn(1000)\n",
    "large_arr.sort()\n",
    "large_arr[int(0.05 * len(large_arr))] # 5%ый квантиль"
   ]
  },
  {
   "cell_type": "markdown",
   "id": "731c7dd4-aef4-4dcc-b9fe-cc10aa112c5e",
   "metadata": {},
   "source": [
    "Удаление дубликатов и другие теоретико-множественные операции"
   ]
  },
  {
   "cell_type": "code",
   "execution_count": 44,
   "id": "f5e89a1d-1432-41e8-9905-c036780324b2",
   "metadata": {},
   "outputs": [
    {
     "data": {
      "text/plain": [
       "array(['Bob', 'Joe', 'Will'], dtype='<U4')"
      ]
     },
     "execution_count": 44,
     "metadata": {},
     "output_type": "execute_result"
    }
   ],
   "source": [
    "import numpy as np\n",
    "names = np.array(['Bob', 'Joe', 'Will', 'Bob', 'Will', 'Joe', 'Joe'])\n",
    "np.unique(names)"
   ]
  },
  {
   "cell_type": "code",
   "execution_count": 45,
   "id": "39e0ee6b-6e7b-464f-9dc5-30c52e4f49a0",
   "metadata": {},
   "outputs": [
    {
     "data": {
      "text/plain": [
       "array([1, 2, 3, 4])"
      ]
     },
     "execution_count": 45,
     "metadata": {},
     "output_type": "execute_result"
    }
   ],
   "source": [
    "ints = np.array([3, 3, 3, 2, 2, 1, 1, 4 ,4])\n",
    "np.unique(ints)"
   ]
  },
  {
   "cell_type": "code",
   "execution_count": 46,
   "id": "22de2d42-a866-471e-9a85-a2d535570d7d",
   "metadata": {},
   "outputs": [
    {
     "data": {
      "text/plain": [
       "[np.str_('Bob'), np.str_('Joe'), np.str_('Will')]"
      ]
     },
     "execution_count": 46,
     "metadata": {},
     "output_type": "execute_result"
    }
   ],
   "source": [
    "sorted(set(names))"
   ]
  },
  {
   "cell_type": "code",
   "execution_count": 47,
   "id": "179024af-45cc-4d44-bfbf-7a798cbf21be",
   "metadata": {},
   "outputs": [
    {
     "name": "stderr",
     "output_type": "stream",
     "text": [
      "/tmp/ipykernel_166025/3962354450.py:3: DeprecationWarning: `in1d` is deprecated. Use `np.isin` instead.\n",
      "  np.in1d(values, [2, 3, 6])\n"
     ]
    },
    {
     "data": {
      "text/plain": [
       "array([ True, False, False,  True,  True, False,  True])"
      ]
     },
     "execution_count": 47,
     "metadata": {},
     "output_type": "execute_result"
    }
   ],
   "source": [
    "import numpy as np\n",
    "values = np.array([6, 0, 0, 3, 2, 5, 6])\n",
    "np.in1d(values, [2, 3, 6])"
   ]
  },
  {
   "cell_type": "markdown",
   "id": "c41ab275-1494-4459-8b88-1e376c2699cb",
   "metadata": {},
   "source": [
    "Файловый ввод-вывод массивов"
   ]
  },
  {
   "cell_type": "code",
   "execution_count": 48,
   "id": "c2d0effa-9bda-4835-ab5f-30db3928dc81",
   "metadata": {},
   "outputs": [],
   "source": [
    "import numpy as np\n",
    "arr = np.arange(11)\n",
    "np.save('some_array', arr)"
   ]
  },
  {
   "cell_type": "code",
   "execution_count": 49,
   "id": "a8a83b32-4d03-4c35-91a6-4800ab7a0fb1",
   "metadata": {},
   "outputs": [
    {
     "data": {
      "text/plain": [
       "array([ 0,  1,  2,  3,  4,  5,  6,  7,  8,  9, 10])"
      ]
     },
     "execution_count": 49,
     "metadata": {},
     "output_type": "execute_result"
    }
   ],
   "source": [
    "np.load('some_array.npy')"
   ]
  },
  {
   "cell_type": "code",
   "execution_count": 50,
   "id": "c21e0b82-2bb4-4076-8c14-b3398b63baa1",
   "metadata": {},
   "outputs": [],
   "source": [
    "np.savez('array_archive.npz', a=arr, b=arr)"
   ]
  },
  {
   "cell_type": "code",
   "execution_count": 51,
   "id": "8956ff50-9bef-457a-ad9f-95c4b58600f7",
   "metadata": {},
   "outputs": [
    {
     "data": {
      "text/plain": [
       "array([ 0,  1,  2,  3,  4,  5,  6,  7,  8,  9, 10])"
      ]
     },
     "execution_count": 51,
     "metadata": {},
     "output_type": "execute_result"
    }
   ],
   "source": [
    "arch = np.load('array_archive.npz')\n",
    "arch['b']"
   ]
  },
  {
   "cell_type": "code",
   "execution_count": 52,
   "id": "639de549-2f78-4b48-8606-742eb1257c6b",
   "metadata": {},
   "outputs": [],
   "source": [
    "np.savez_compressed('arrays_compressed.npz', a=arr, b=arr)"
   ]
  },
  {
   "cell_type": "markdown",
   "id": "bb543089-32c3-49a2-b9a7-1ba562a13250",
   "metadata": {},
   "source": [
    "Линейная алгебра"
   ]
  },
  {
   "cell_type": "code",
   "execution_count": 53,
   "id": "ad61421f-4a5e-4f6c-a458-f6642634b941",
   "metadata": {},
   "outputs": [
    {
     "data": {
      "text/plain": [
       "array([[1., 2., 3.],\n",
       "       [4., 5., 6.]])"
      ]
     },
     "execution_count": 53,
     "metadata": {},
     "output_type": "execute_result"
    }
   ],
   "source": [
    "import numpy as np\n",
    "x = np.array([[1., 2., 3.], [4., 5., 6.]])\n",
    "y = np.array([[6., 23.], [-1, 7], [8, 9]])\n",
    "x"
   ]
  },
  {
   "cell_type": "code",
   "execution_count": 54,
   "id": "4ac5f8ee-88f4-437c-a462-361f79dfc654",
   "metadata": {},
   "outputs": [
    {
     "data": {
      "text/plain": [
       "array([[ 6., 23.],\n",
       "       [-1.,  7.],\n",
       "       [ 8.,  9.]])"
      ]
     },
     "execution_count": 54,
     "metadata": {},
     "output_type": "execute_result"
    }
   ],
   "source": [
    "y"
   ]
  },
  {
   "cell_type": "code",
   "execution_count": 55,
   "id": "270fd49a-3a2c-452a-9f05-f1a5e8b82dd4",
   "metadata": {},
   "outputs": [
    {
     "data": {
      "text/plain": [
       "array([[ 28.,  64.],\n",
       "       [ 67., 181.]])"
      ]
     },
     "execution_count": 55,
     "metadata": {},
     "output_type": "execute_result"
    }
   ],
   "source": [
    "x.dot(y)"
   ]
  },
  {
   "cell_type": "code",
   "execution_count": 56,
   "id": "7f594b2e-7bf6-4411-88f9-11daa20840db",
   "metadata": {},
   "outputs": [
    {
     "data": {
      "text/plain": [
       "array([[ 28.,  64.],\n",
       "       [ 67., 181.]])"
      ]
     },
     "execution_count": 56,
     "metadata": {},
     "output_type": "execute_result"
    }
   ],
   "source": [
    "np.dot(x, y)"
   ]
  },
  {
   "cell_type": "code",
   "execution_count": 57,
   "id": "483ec1cd-d4a8-4993-acc7-082434edb335",
   "metadata": {},
   "outputs": [
    {
     "data": {
      "text/plain": [
       "array([ 6., 15.])"
      ]
     },
     "execution_count": 57,
     "metadata": {},
     "output_type": "execute_result"
    }
   ],
   "source": [
    "np.dot(x, np.ones(3))"
   ]
  },
  {
   "cell_type": "code",
   "execution_count": 58,
   "id": "b152ddfd-afa9-4809-a2f2-43000ab0936b",
   "metadata": {},
   "outputs": [
    {
     "data": {
      "text/plain": [
       "array([ 6., 15.])"
      ]
     },
     "execution_count": 58,
     "metadata": {},
     "output_type": "execute_result"
    }
   ],
   "source": [
    "x @ np.ones(3)"
   ]
  },
  {
   "cell_type": "code",
   "execution_count": 59,
   "id": "d21624f7-ac13-4479-8c2e-ff4f29bfd8d6",
   "metadata": {},
   "outputs": [
    {
     "data": {
      "text/plain": [
       "array([[ 1.91303297, -1.9620515 , -0.13563514, -2.67569641,  0.04902593],\n",
       "       [-1.9620515 ,  3.4388133 , -1.50673499,  2.25643959, -0.13024496],\n",
       "       [-0.13563514, -1.50673499,  3.38334682,  1.63804877,  0.18883042],\n",
       "       [-2.67569641,  2.25643959,  1.63804877,  5.10225245,  0.04167317],\n",
       "       [ 0.04902593, -0.13024496,  0.18883042,  0.04167317,  0.14364901]])"
      ]
     },
     "execution_count": 59,
     "metadata": {},
     "output_type": "execute_result"
    }
   ],
   "source": [
    "from numpy.linalg import inv, qr\n",
    "X = np.random.randn(5, 5)\n",
    "mat = X.T.dot(X)\n",
    "inv(mat)"
   ]
  },
  {
   "cell_type": "code",
   "execution_count": 60,
   "id": "643a5de8-a016-427e-abfb-33d4812694f2",
   "metadata": {},
   "outputs": [
    {
     "data": {
      "text/plain": [
       "array([[ 1.00000000e+00,  4.48778585e-16, -3.04911108e-16,\n",
       "        -9.89958644e-16,  1.97788704e-17],\n",
       "       [ 2.56817752e-16,  1.00000000e+00,  5.74695300e-17,\n",
       "         4.95905893e-16, -2.19553593e-17],\n",
       "       [ 2.17247599e-16, -8.26588144e-16,  1.00000000e+00,\n",
       "        -2.62755221e-16,  6.78064696e-18],\n",
       "       [ 2.85465114e-16,  4.15203919e-16, -4.90454245e-16,\n",
       "         1.00000000e+00, -3.01536308e-17],\n",
       "       [-1.89982769e-16,  1.33874902e-18, -2.00774772e-17,\n",
       "        -1.22767579e-17,  1.00000000e+00]])"
      ]
     },
     "execution_count": 60,
     "metadata": {},
     "output_type": "execute_result"
    }
   ],
   "source": [
    "mat.dot(inv(mat))"
   ]
  },
  {
   "cell_type": "code",
   "execution_count": 61,
   "id": "0f51a805-ec2d-4280-b493-e011dfb76775",
   "metadata": {},
   "outputs": [
    {
     "data": {
      "text/plain": [
       "array([[-4.39176129, -1.34588505, -0.01363004, -1.787145  ,  1.8804458 ],\n",
       "       [ 0.        , -2.07070395, -1.83662819,  1.60265745, -0.3599998 ],\n",
       "       [ 0.        ,  0.        , -0.56350129,  0.13307711,  6.54956072],\n",
       "       [ 0.        ,  0.        ,  0.        , -0.15649453,  0.20797962],\n",
       "       [ 0.        ,  0.        ,  0.        ,  0.        ,  3.59452076]])"
      ]
     },
     "execution_count": 61,
     "metadata": {},
     "output_type": "execute_result"
    }
   ],
   "source": [
    "q, r = qr(mat)\n",
    "r"
   ]
  },
  {
   "cell_type": "code",
   "execution_count": 62,
   "id": "7a1b21bf-fa4a-4d5c-aa11-3ec3eb4ea136",
   "metadata": {},
   "outputs": [
    {
     "data": {
      "text/plain": [
       "array([[-0.12018228,  1.741369  , -1.32563361,  0.63094972],\n",
       "       [-0.14474621,  1.83339959,  1.71948201,  0.82249638],\n",
       "       [ 0.03135066,  2.3677898 ,  0.49067288,  1.03958683],\n",
       "       [-0.68720791,  0.01860778,  1.57798924, -1.9083512 ]])"
      ]
     },
     "execution_count": 62,
     "metadata": {},
     "output_type": "execute_result"
    }
   ],
   "source": [
    "import numpy as np\n",
    "samples = np.random.normal(size=(4, 4))\n",
    "samples"
   ]
  },
  {
   "cell_type": "code",
   "execution_count": 63,
   "id": "45b4cb11-4134-4e00-9a32-9d9c9a8e3832",
   "metadata": {},
   "outputs": [
    {
     "name": "stdout",
     "output_type": "stream",
     "text": [
      "5.75 s ± 148 ms per loop (mean ± std. dev. of 7 runs, 1 loop each)\n"
     ]
    }
   ],
   "source": [
    "from random import normalvariate\n",
    "N = 10000000\n",
    "%timeit samples = [normalvariate(0, 1) for _ in range(N)]"
   ]
  },
  {
   "cell_type": "code",
   "execution_count": 64,
   "id": "7948befa-cfac-4725-9987-7757ad3901fe",
   "metadata": {},
   "outputs": [
    {
     "name": "stdout",
     "output_type": "stream",
     "text": [
      "213 ms ± 4.35 ms per loop (mean ± std. dev. of 7 runs, 1 loop each)\n"
     ]
    }
   ],
   "source": [
    "%timeit np.random.normal(size=N)"
   ]
  },
  {
   "cell_type": "code",
   "execution_count": 65,
   "id": "a2ea7ead-0455-424a-832a-e8ed63e32490",
   "metadata": {},
   "outputs": [],
   "source": [
    "np.random.seed(12345)"
   ]
  },
  {
   "cell_type": "code",
   "execution_count": 66,
   "id": "765a0798-308c-49a0-806b-a12e761ec04e",
   "metadata": {},
   "outputs": [
    {
     "data": {
      "text/plain": [
       "array([-0.20470766,  0.47894334, -0.51943872, -0.5557303 ,  1.96578057,\n",
       "        1.39340583,  0.09290788,  0.28174615,  0.76902257,  1.24643474])"
      ]
     },
     "execution_count": 66,
     "metadata": {},
     "output_type": "execute_result"
    }
   ],
   "source": [
    "np.random.randn(10)"
   ]
  },
  {
   "cell_type": "code",
   "execution_count": 67,
   "id": "c2765902-e7e9-4189-887b-fcdfdbfc797d",
   "metadata": {},
   "outputs": [
    {
     "data": {
      "text/plain": [
       "array([ 0.47143516, -1.19097569,  1.43270697, -0.3126519 , -0.72058873,\n",
       "        0.88716294,  0.85958841, -0.6365235 ,  0.01569637, -2.24268495])"
      ]
     },
     "execution_count": 67,
     "metadata": {},
     "output_type": "execute_result"
    }
   ],
   "source": [
    "rng = np.random.RandomState(1234)\n",
    "rng.randn(10)"
   ]
  },
  {
   "cell_type": "code",
   "execution_count": null,
   "id": "aa7c0ca6-290d-4456-81d5-801e1821fcc4",
   "metadata": {},
   "outputs": [],
   "source": []
  }
 ],
 "metadata": {
  "kernelspec": {
   "display_name": "Python 3 (ipykernel)",
   "language": "python",
   "name": "python3"
  },
  "language_info": {
   "codemirror_mode": {
    "name": "ipython",
    "version": 3
   },
   "file_extension": ".py",
   "mimetype": "text/x-python",
   "name": "python",
   "nbconvert_exporter": "python",
   "pygments_lexer": "ipython3",
   "version": "3.12.4"
  }
 },
 "nbformat": 4,
 "nbformat_minor": 5
}
