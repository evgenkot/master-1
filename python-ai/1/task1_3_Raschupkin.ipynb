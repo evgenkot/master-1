{
 "cells": [
  {
   "cell_type": "code",
   "execution_count": 1,
   "id": "1327b027-8426-469a-9785-95948b2799ef",
   "metadata": {},
   "outputs": [
    {
     "name": "stdout",
     "output_type": "stream",
     "text": [
      "[1, 4, 6, 8]\n",
      "[1, 4, 6, 8]\n"
     ]
    }
   ],
   "source": [
    "# Используется один и тот же лист\n",
    "a = [4, 8, 6, 1]\n",
    "b = a\n",
    "a.sort()\n",
    "print(a)\n",
    "print(b)"
   ]
  },
  {
   "cell_type": "code",
   "execution_count": 2,
   "id": "c7400ee1-2afc-4645-8805-08b5221f0596",
   "metadata": {},
   "outputs": [
    {
     "name": "stdout",
     "output_type": "stream",
     "text": [
      "[1, 4, 6, 8]\n",
      "[4, 8, 6, 1]\n"
     ]
    }
   ],
   "source": [
    "# Создается копия листа\n",
    "a = [4, 8, 6, 1]\n",
    "b = a[:]\n",
    "a.sort()\n",
    "print(a)\n",
    "print(b)"
   ]
  },
  {
   "cell_type": "code",
   "execution_count": 3,
   "id": "c368b39f-eae2-41ce-b948-58f7b6092ed1",
   "metadata": {},
   "outputs": [],
   "source": [
    "import random\n",
    "random_list = [random.randint(1, 10) for _ in range(100)]"
   ]
  },
  {
   "cell_type": "code",
   "execution_count": 4,
   "id": "b6243258-44d2-4da3-b335-a0259c952b0f",
   "metadata": {},
   "outputs": [
    {
     "data": {
      "text/plain": [
       "550"
      ]
     },
     "execution_count": 4,
     "metadata": {},
     "output_type": "execute_result"
    }
   ],
   "source": [
    "sum(random_list)"
   ]
  },
  {
   "cell_type": "code",
   "execution_count": 5,
   "id": "131de87c-e11c-41d6-9c4c-ec135f3fcfc5",
   "metadata": {},
   "outputs": [
    {
     "data": {
      "text/plain": [
       "506804308636704247352160730601815625936689692672000000000000000000"
      ]
     },
     "execution_count": 5,
     "metadata": {},
     "output_type": "execute_result"
    }
   ],
   "source": [
    "import math\n",
    "math.prod(random_list)"
   ]
  },
  {
   "cell_type": "code",
   "execution_count": 6,
   "id": "a8e0dc79-b129-491a-a263-371a71d18555",
   "metadata": {},
   "outputs": [
    {
     "data": {
      "text/plain": [
       "10"
      ]
     },
     "execution_count": 6,
     "metadata": {},
     "output_type": "execute_result"
    }
   ],
   "source": [
    "max(random_list)"
   ]
  },
  {
   "cell_type": "code",
   "execution_count": 7,
   "id": "4311b314-a00a-45ae-a459-3bd0f79c6381",
   "metadata": {},
   "outputs": [
    {
     "data": {
      "text/plain": [
       "{8: 16, 4: 9, 6: 8, 9: 9, 10: 7, 3: 14, 1: 12, 7: 10, 5: 11, 2: 4}"
      ]
     },
     "execution_count": 7,
     "metadata": {},
     "output_type": "execute_result"
    }
   ],
   "source": [
    "counts = {}\n",
    "for item in random_list:\n",
    "    if item in counts:\n",
    "        counts[item] += 1\n",
    "    else:\n",
    "        counts[item] = 1\n",
    "    \n",
    "duplicates = {item: count for item, count in counts.items() if count > 1}\n",
    "duplicates"
   ]
  },
  {
   "cell_type": "code",
   "execution_count": 8,
   "id": "087c9690-e64f-46c8-acc0-abcf4b96fe42",
   "metadata": {},
   "outputs": [],
   "source": [
    "max_index = random_list.index(max(random_list))\n",
    "min_index = random_list.index(min(random_list))\n",
    "random_list[max_index], random_list[min_index] = random_list[min_index], random_list[max_index]"
   ]
  },
  {
   "cell_type": "code",
   "execution_count": 9,
   "id": "53d7d947-1739-4680-b0c8-07d6a9926344",
   "metadata": {},
   "outputs": [
    {
     "name": "stdout",
     "output_type": "stream",
     "text": [
      "Max income: 465000 in 1/2018\n",
      "Min income: 22000 in 1/2016\n"
     ]
    }
   ],
   "source": [
    "# Данные о продажах\n",
    "sales_data = {\n",
    "    2016: [22000, 190000, 245000, 151000, 98000, 354000, 126000, 124000, 121000, 148237, 252300, 324774],\n",
    "    2017: [88000, 168446, 137590, 81000, 102000, 321000, 345120, 153010, 320172, 231423, 245100, 256484],\n",
    "    2018: [465000, 285333, 134000, 353000, 136000, 234126, 345600, 352023, 153230, 172000, 412986, 354128]\n",
    "}\n",
    "\n",
    "max_sales = float('-inf')\n",
    "min_sales = float('inf')\n",
    "max_month = \"\"\n",
    "min_month = \"\"\n",
    "\n",
    "for year, sales in sales_data.items():\n",
    "    for month, amount in enumerate(sales):\n",
    "        if amount > max_sales:\n",
    "            max_sales = amount\n",
    "            max_month = f\"{month+1}/{year}\"\n",
    "        if amount < min_sales:\n",
    "            min_sales = amount\n",
    "            min_month = f\"{month+1}/{year}\"\n",
    "\n",
    "print(f\"Max income: {max_sales} in {max_month}\")\n",
    "print(f\"Min income: {min_sales} in {min_month}\")"
   ]
  },
  {
   "cell_type": "code",
   "execution_count": 10,
   "id": "308ae405-dd62-4620-a3db-60dfb4f0edf1",
   "metadata": {},
   "outputs": [
    {
     "name": "stdout",
     "output_type": "stream",
     "text": [
      "Year 2016:\n",
      "  - Growth from 1 to 4\n",
      "  - Growth from 5 to 7\n",
      "  - Growth from 9 to 12\n",
      "Year 2017:\n",
      "  - Growth from 1 to 3\n",
      "  - Growth from 4 to 8\n",
      "  - Growth from 8 to 10\n",
      "  - Growth from 10 to 12\n",
      "Year 2018:\n",
      "  - Growth from 3 to 5\n",
      "  - Growth from 5 to 9\n",
      "  - Growth from 9 to 12\n"
     ]
    }
   ],
   "source": [
    "for year, sales in sales_data.items():\n",
    "    growth_periods = []\n",
    "    start_month = None\n",
    "\n",
    "    for month in range(1, len(sales)):\n",
    "        if sales[month] > sales[month - 1]:\n",
    "            if start_month is None:\n",
    "                start_month = month - 1\n",
    "        else:\n",
    "            if start_month is not None:\n",
    "                growth_periods.append((start_month, month))\n",
    "                start_month = None\n",
    "\n",
    "    if start_month is not None:\n",
    "        growth_periods.append((start_month, len(sales) - 1))\n",
    "\n",
    "    if growth_periods:\n",
    "        print(f\"Year {year}:\")\n",
    "        for start, end in growth_periods:\n",
    "            print(f\"  - Growth from {start + 1} to {end + 1}\")\n",
    "    else:\n",
    "        print(f\"In {year}: No periods.\")"
   ]
  },
  {
   "cell_type": "code",
   "execution_count": null,
   "id": "021799d0-31dc-4657-8c72-2ae4effce47d",
   "metadata": {},
   "outputs": [],
   "source": []
  },
  {
   "cell_type": "code",
   "execution_count": null,
   "id": "165bc515-d465-48e6-82f4-3520b9c52ed9",
   "metadata": {},
   "outputs": [],
   "source": []
  }
 ],
 "metadata": {
  "kernelspec": {
   "display_name": "Python 3 (ipykernel)",
   "language": "python",
   "name": "python3"
  },
  "language_info": {
   "codemirror_mode": {
    "name": "ipython",
    "version": 3
   },
   "file_extension": ".py",
   "mimetype": "text/x-python",
   "name": "python",
   "nbconvert_exporter": "python",
   "pygments_lexer": "ipython3",
   "version": "3.12.4"
  }
 },
 "nbformat": 4,
 "nbformat_minor": 5
}
