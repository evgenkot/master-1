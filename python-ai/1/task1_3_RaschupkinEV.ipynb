{
 "cells": [
  {
   "cell_type": "code",
   "execution_count": 7,
   "id": "1327b027-8426-469a-9785-95948b2799ef",
   "metadata": {},
   "outputs": [
    {
     "name": "stdout",
     "output_type": "stream",
     "text": [
      "[1, 4, 6, 8]\n",
      "[1, 4, 6, 8]\n"
     ]
    }
   ],
   "source": [
    "# Используется один и тот же лист\n",
    "a = [4, 8, 6, 1]\n",
    "b = a\n",
    "a.sort()\n",
    "print(a)\n",
    "print(b)"
   ]
  },
  {
   "cell_type": "code",
   "execution_count": 8,
   "id": "c7400ee1-2afc-4645-8805-08b5221f0596",
   "metadata": {},
   "outputs": [
    {
     "name": "stdout",
     "output_type": "stream",
     "text": [
      "[1, 4, 6, 8]\n",
      "[4, 8, 6, 1]\n"
     ]
    }
   ],
   "source": [
    "# Создается копия листа\n",
    "a = [4, 8, 6, 1]\n",
    "b = a[:]\n",
    "a.sort()\n",
    "print(a)\n",
    "print(b)"
   ]
  },
  {
   "cell_type": "code",
   "execution_count": 17,
   "id": "c368b39f-eae2-41ce-b948-58f7b6092ed1",
   "metadata": {},
   "outputs": [],
   "source": [
    "import random\n",
    "random_list = [random.randint(1, 10) for _ in range(100)]"
   ]
  },
  {
   "cell_type": "code",
   "execution_count": 18,
   "id": "b6243258-44d2-4da3-b335-a0259c952b0f",
   "metadata": {},
   "outputs": [
    {
     "data": {
      "text/plain": [
       "537"
      ]
     },
     "execution_count": 18,
     "metadata": {},
     "output_type": "execute_result"
    }
   ],
   "source": [
    "sum(random_list)"
   ]
  },
  {
   "cell_type": "code",
   "execution_count": 24,
   "id": "131de87c-e11c-41d6-9c4c-ec135f3fcfc5",
   "metadata": {},
   "outputs": [
    {
     "data": {
      "text/plain": [
       "21116846193196010306340030441742317747362070528000000000000000000"
      ]
     },
     "execution_count": 24,
     "metadata": {},
     "output_type": "execute_result"
    }
   ],
   "source": [
    "import math\n",
    "math.prod(random_list)"
   ]
  },
  {
   "cell_type": "code",
   "execution_count": 25,
   "id": "a8e0dc79-b129-491a-a263-371a71d18555",
   "metadata": {},
   "outputs": [
    {
     "data": {
      "text/plain": [
       "10"
      ]
     },
     "execution_count": 25,
     "metadata": {},
     "output_type": "execute_result"
    }
   ],
   "source": [
    "max(random_list)"
   ]
  },
  {
   "cell_type": "code",
   "execution_count": 23,
   "id": "4311b314-a00a-45ae-a459-3bd0f79c6381",
   "metadata": {},
   "outputs": [
    {
     "ename": "NameError",
     "evalue": "name 'Counter' is not defined",
     "output_type": "error",
     "traceback": [
      "\u001b[0;31m---------------------------------------------------------------------------\u001b[0m",
      "\u001b[0;31mNameError\u001b[0m                                 Traceback (most recent call last)",
      "Cell \u001b[0;32mIn[23], line 1\u001b[0m\n\u001b[0;32m----> 1\u001b[0m element_counts \u001b[38;5;241m=\u001b[39m \u001b[43mCounter\u001b[49m(random_list)\n\u001b[1;32m      2\u001b[0m duplicates \u001b[38;5;241m=\u001b[39m {num: count \u001b[38;5;28;01mfor\u001b[39;00m num, count \u001b[38;5;129;01min\u001b[39;00m element_counts\u001b[38;5;241m.\u001b[39mitems() \u001b[38;5;28;01mif\u001b[39;00m count \u001b[38;5;241m>\u001b[39m \u001b[38;5;241m1\u001b[39m}\n",
      "\u001b[0;31mNameError\u001b[0m: name 'Counter' is not defined"
     ]
    }
   ],
   "source": [
    "element_counts = Counter(random_list)\n",
    "duplicates = {num: count for num, count in element_counts.items() if count > 1}"
   ]
  },
  {
   "cell_type": "code",
   "execution_count": 27,
   "id": "087c9690-e64f-46c8-acc0-abcf4b96fe42",
   "metadata": {},
   "outputs": [],
   "source": [
    "max_index = random_list.index(max(random_list))\n",
    "min_index = random_list.index(min(random_list))\n",
    "random_list[max_index], random_list[min_index] = random_list[min_index], random_list[max_index]"
   ]
  },
  {
   "cell_type": "code",
   "execution_count": null,
   "id": "53d7d947-1739-4680-b0c8-07d6a9926344",
   "metadata": {},
   "outputs": [],
   "source": []
  }
 ],
 "metadata": {
  "kernelspec": {
   "display_name": "Python 3 (ipykernel)",
   "language": "python",
   "name": "python3"
  },
  "language_info": {
   "codemirror_mode": {
    "name": "ipython",
    "version": 3
   },
   "file_extension": ".py",
   "mimetype": "text/x-python",
   "name": "python",
   "nbconvert_exporter": "python",
   "pygments_lexer": "ipython3",
   "version": "3.12.4"
  }
 },
 "nbformat": 4,
 "nbformat_minor": 5
}
