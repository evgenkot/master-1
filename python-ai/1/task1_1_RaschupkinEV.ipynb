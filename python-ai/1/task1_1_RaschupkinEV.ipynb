{
 "cells": [
  {
   "cell_type": "code",
   "execution_count": 9,
   "id": "18ceb8aa-60df-4ba7-9d4b-c4b8ddfc34d1",
   "metadata": {},
   "outputs": [
    {
     "name": "stdout",
     "output_type": "stream",
     "text": [
      "Hello, world!\n"
     ]
    }
   ],
   "source": [
    "# Вывод на экран сообщения:\n",
    "print ('Hello, world!')"
   ]
  },
  {
   "cell_type": "code",
   "execution_count": 10,
   "id": "23d5fac5-57bd-431b-9b1b-08f70e317746",
   "metadata": {},
   "outputs": [
    {
     "data": {
      "text/plain": [
       "4"
      ]
     },
     "execution_count": 10,
     "metadata": {},
     "output_type": "execute_result"
    }
   ],
   "source": [
    "2+2"
   ]
  },
  {
   "cell_type": "code",
   "execution_count": 11,
   "id": "d06e4c3e-8771-45fc-9f49-c0e55395c016",
   "metadata": {},
   "outputs": [
    {
     "data": {
      "text/plain": [
       "25.836021365527625"
      ]
     },
     "execution_count": 11,
     "metadata": {},
     "output_type": "execute_result"
    }
   ],
   "source": [
    "import math as m\n",
    "m.sqrt((34/4 + 5**3)*5)"
   ]
  },
  {
   "cell_type": "code",
   "execution_count": 13,
   "id": "6c0504c2-4c78-40fe-841b-b8b3b215b250",
   "metadata": {},
   "outputs": [
    {
     "data": {
      "text/plain": [
       "'3.9.2'"
      ]
     },
     "execution_count": 13,
     "metadata": {},
     "output_type": "execute_result"
    }
   ],
   "source": [
    "# Импорт пакета\n",
    "import numpy\n",
    "import matplotlib\n",
    "# Вывод информации об установленной версии библиотеки\n",
    "matplotlib .__version__"
   ]
  },
  {
   "cell_type": "code",
   "execution_count": 14,
   "id": "ea68da7a-c9eb-41ee-a2d6-3625d8535d21",
   "metadata": {},
   "outputs": [
    {
     "data": {
      "text/plain": [
       "'2.1.1'"
      ]
     },
     "execution_count": 14,
     "metadata": {},
     "output_type": "execute_result"
    }
   ],
   "source": [
    "numpy .__version__"
   ]
  },
  {
   "cell_type": "code",
   "execution_count": 15,
   "id": "730e8e90-5807-46d9-aa2b-ac887441d1d1",
   "metadata": {},
   "outputs": [
    {
     "name": "stdout",
     "output_type": "stream",
     "text": [
      "CPU times: user 4.03 ms, sys: 1.02 ms, total: 5.05 ms\n",
      "Wall time: 5.01 s\n"
     ]
    }
   ],
   "source": [
    "%%time\n",
    "import time\n",
    "for i in range(50):\n",
    "    time.sleep(0.1)"
   ]
  },
  {
   "cell_type": "markdown",
   "id": "a89fb8a1-4650-4f3c-bae7-be22e7ee440a",
   "metadata": {},
   "source": [
    "## Заголовок 2\n",
    "### Заголовок 3\n",
    "#### Заголовок 4\n",
    "Основной текст\n",
    "~~Зачёркнутый текст~~\n",
    "*курсив*\n",
    "**полужирное начертание**\n",
    "***полужирное начертание курсив***\n",
    "[Текст ссылки](адрес://ссылки.здесь \"Заголовок ссылки\")\n",
    "![Alt-текст](адрес://ссылки.здесь \"Заголовок изображения\")\n",
    "+ пример списка\n",
    "    * чтобы сделать подпункт, нажмите tab\n",
    "        - подпункт подпункта\n",
    "* второй пункт"
   ]
  },
  {
   "cell_type": "markdown",
   "id": "69891f67-b03e-4dfe-b314-031f3345bdf9",
   "metadata": {},
   "source": [
    "Лабораторная работа № 1 **ВВЕДЕНИЕ**\n",
    "\n",
    "\n",
    "*автор* Ращупкин Е.В.\n",
    "\n",
    "*группа* КЭ-120"
   ]
  },
  {
   "cell_type": "markdown",
   "id": "4ac5bd2d-0931-45bd-93cc-59827e47611f",
   "metadata": {},
   "source": [
    "Заголовок таблицы | Другой заголовок\n",
    "-------- | --------\n",
    "Ячейка 1 | Ячейка 2\n",
    "Ячейка 3 | Ячейка 4"
   ]
  },
  {
   "cell_type": "markdown",
   "id": "bbcab887-ce0b-4e65-941e-8e6de8905f54",
   "metadata": {},
   "source": [
    "# Операторы Python\n",
    "Операция | Результат\n",
    "---------| ---------------------------------\n",
    "x+y      | Сложение\n",
    "x-y      | Вычитание\n",
    "-x       | Смена знака х\n",
    "+x       | Тождественность х\n",
    "x*y      | Умножение\n",
    "x/y      | Деление\n",
    "x//y     | Получение целой части от деления\n",
    "x%y      | Остаток от деления\n",
    "x**y     | Возведение в степень\n",
    "\n",
    "## Составные операторы присваивания\n",
    "\n",
    "Оператор | Результат\n",
    "---------| -----------------------------------\n",
    "y+=1     | Сложение и присваивание\n",
    "y-=1     | Вычитание и присваивание\n",
    "y*=2     | Умножение и присваивание\n",
    "y/=3     | Деление и присваивание\n",
    "y//=5    | Деление floor и присваивание\n",
    "y**=5    | Возведение в степень и присваивание\n",
    "y%=3     | Вывод остатка и присваивание"
   ]
  },
  {
   "cell_type": "code",
   "execution_count": 18,
   "id": "7c97cf85-97e8-4929-9388-a0ce08e54d87",
   "metadata": {},
   "outputs": [
    {
     "data": {
      "text/plain": [
       "6"
      ]
     },
     "execution_count": 18,
     "metadata": {},
     "output_type": "execute_result"
    }
   ],
   "source": [
    "y = 5\n",
    "y += 1\n",
    "y"
   ]
  },
  {
   "cell_type": "code",
   "execution_count": null,
   "id": "47c88a5b-69c3-4b75-97f1-11b4f71439de",
   "metadata": {},
   "outputs": [],
   "source": []
  }
 ],
 "metadata": {
  "kernelspec": {
   "display_name": "Python 3 (ipykernel)",
   "language": "python",
   "name": "python3"
  },
  "language_info": {
   "codemirror_mode": {
    "name": "ipython",
    "version": 3
   },
   "file_extension": ".py",
   "mimetype": "text/x-python",
   "name": "python",
   "nbconvert_exporter": "python",
   "pygments_lexer": "ipython3",
   "version": "3.12.4"
  }
 },
 "nbformat": 4,
 "nbformat_minor": 5
}
